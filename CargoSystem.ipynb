{
  "cells": [
    {
      "cell_type": "markdown",
      "metadata": {
        "id": "view-in-github",
        "colab_type": "text"
      },
      "source": [
        "<a href=\"https://colab.research.google.com/github/Yamina-Romani/microservices_identificaction_example/blob/main/CargoSystem.ipynb\" target=\"_parent\"><img src=\"https://colab.research.google.com/assets/colab-badge.svg\" alt=\"Open In Colab\"/></a>"
      ]
    },
    {
      "cell_type": "code",
      "execution_count": 24,
      "metadata": {
        "id": "OqzIyrZFpo6e"
      },
      "outputs": [],
      "source": [
        "#@title Titre par défaut\n",
        "import os\n",
        "import string\n",
        "import matplotlib\n",
        "import matplotlib_inline\n",
        "import numpy as np\n",
        "import pandas as pd\n",
        "import gensim.models\n",
        "import nltk\n",
        "import matplotlib.pyplot as plt\n",
        "from nltk.stem import WordNetLemmatizer\n",
        "from nltk.corpus import stopwords\n",
        "from nltk.corpus import wordnet\n",
        "from sklearn.feature_extraction.text import TfidfVectorizer\n",
        "from sklearn.cluster import KMeans\n",
        "from sklearn.decomposition import PCA\n",
        "from sklearn.metrics import silhouette_score\n",
        "from sklearn.metrics import davies_bouldin_score\n",
        "from sklearn import metrics \n",
        "import pandas as pd\n"
      ]
    },
    {
      "cell_type": "code",
      "execution_count": 25,
      "metadata": {
        "colab": {
          "base_uri": "https://localhost:8080/"
        },
        "id": "GTviGHPNE7Cy",
        "outputId": "c165dafa-842e-45ba-f350-53035d2bb2c4"
      },
      "outputs": [
        {
          "output_type": "stream",
          "name": "stdout",
          "text": [
            "Drive already mounted at /content/drive; to attempt to forcibly remount, call drive.mount(\"/content/drive\", force_remount=True).\n"
          ]
        }
      ],
      "source": [
        "from google.colab import drive\n",
        "drive.mount('/content/drive')"
      ]
    },
    {
      "cell_type": "code",
      "execution_count": 26,
      "metadata": {
        "id": "I75uYh7VSKyx"
      },
      "outputs": [],
      "source": [
        "\n",
        "#print('Indexing word vectors.')\n",
        "\n",
        "embeddings_index = {}\n",
        "f = open('/content/drive/My Drive/glove.6B.50d.txt', encoding='utf-8')\n",
        "for line in f:\n",
        "    values = line.split()\n",
        "    word = values[0]\n",
        "    coefs = np.asarray(values[1:], dtype='float32')\n",
        "    embeddings_index[word] = coefs\n",
        "f.close()\n",
        "\n",
        "#print('Found %s word vectors.' % len(embeddings_index))"
      ]
    },
    {
      "cell_type": "code",
      "execution_count": 27,
      "metadata": {
        "id": "dpGQ23sDV6hv"
      },
      "outputs": [],
      "source": [
        "embeddings_dict={}\n",
        "with open('/content/drive/My Drive/glove.6B.50d.txt','rb') as f:\n",
        "    for line in f:\n",
        "        values = line.split()\n",
        "        word = values[0]\n",
        "        vector = np.asarray(values[1:], \"float32\")\n",
        "        embeddings_dict[word] = vector"
      ]
    },
    {
      "cell_type": "code",
      "execution_count": 28,
      "metadata": {
        "colab": {
          "base_uri": "https://localhost:8080/"
        },
        "id": "SOM99_QZdkY_",
        "outputId": "277ab174-1a76-479b-8fb4-0a78cbe49f2a"
      },
      "outputs": [
        {
          "output_type": "stream",
          "name": "stderr",
          "text": [
            "[nltk_data] Downloading package stopwords to /root/nltk_data...\n",
            "[nltk_data]   Package stopwords is already up-to-date!\n",
            "[nltk_data] Downloading package wordnet to /root/nltk_data...\n",
            "[nltk_data]   Package wordnet is already up-to-date!\n"
          ]
        }
      ],
      "source": [
        "nltk.download('stopwords')\n",
        "nltk.download('wordnet')\n",
        "#    stop words\n",
        "stop_words = set(stopwords.words('english'))\n",
        "\n",
        "# punctuation\n",
        "punctuation = set(string.punctuation)\n",
        "\n",
        "# lemmatization\n",
        "\n",
        "lemmatization = WordNetLemmatizer()\n",
        "\n",
        "def clean(documents):\n",
        "    # split documents and remove stop words\n",
        "\n",
        "    split_doc = \" \".join([i for i in documents.lower().split() if i not in stop_words])\n",
        "\n",
        "    # remove punctuation\n",
        "    punc_doc = ''.join([j for j in split_doc if j not in punctuation])\n",
        "\n",
        "    # normalize the text\n",
        "    normalized = \" \".join([lemmatization.lemmatize(word) for word in punc_doc.split()])\n",
        "\n",
        "    return normalized\n"
      ]
    },
    {
      "cell_type": "code",
      "execution_count": 29,
      "metadata": {
        "colab": {
          "base_uri": "https://localhost:8080/"
        },
        "id": "hGjZuL_EQA-0",
        "outputId": "38f412d2-7b5a-44e6-e643-6f09a4f18882"
      },
      "outputs": [
        {
          "output_type": "stream",
          "name": "stderr",
          "text": [
            "[nltk_data] Downloading package wordnet to /root/nltk_data...\n",
            "[nltk_data]   Package wordnet is already up-to-date!\n"
          ]
        }
      ],
      "source": [
        "# .........................getSynonyms using wordnet.................................................................................;\n",
        "nltk.download('wordnet')\n",
        "def getSynonyms(name):\n",
        "    # print(\"name is \" ,name)\n",
        "    name = name.replace('_', ' ')\n",
        "    syn = []\n",
        "    ant = []\n",
        "    for word in name.split():\n",
        "        if word != \"blc\":\n",
        "            for synset in wordnet.synsets(word):\n",
        "                for lemma in synset.lemmas():\n",
        "                    if (str(lemma.name()).lower() not in syn) and (str(lemma.name()).lower() != word) and (len(syn)<6):\n",
        "                        syn.append(str(lemma.name()).lower())  # add the synonyms\n",
        "                        if lemma.antonyms():  # When antonyms are available, add them into the list\n",
        "                            ant.append(lemma.antonyms()[0].name())\n",
        "    #  print('Synonyms: ' + str(syn))\n",
        "    # print('Antonyms: ' + str(ant))\n",
        "    return syn\n",
        "\n"
      ]
    },
    {
      "cell_type": "code",
      "execution_count": 30,
      "metadata": {
        "id": "HjaP_to6QEsP"
      },
      "outputs": [],
      "source": [
        "# ............Foreign keys......................................................................................................\n",
        "def ObtainForeinKeys(lines):\n",
        "    punc = '''!()-[]{};:'\"\\,<>.?@#$%^&=~'''\n",
        "\n",
        "    listKeys = []\n",
        "    Data = []\n",
        "    for line in lines:\n",
        "        doc = ''.join(ch for ch in line if ch not in punc)\n",
        "        doc = doc.replace('|', ' ')\n",
        "        Split_Doc = [word for word in doc.split() if word not in punc]\n",
        "        if Split_Doc:\n",
        "            Data.append(Split_Doc)\n",
        "\n",
        "    i = 0\n",
        "    for i in range(0, len(Data)):\n",
        "        if (i in range(0, len(Data))) and (Data[i][0] == \"Colonne\"):\n",
        "            Data.remove(Data[i])\n",
        "\n",
        "        if (i in range(0, len(Data))) and (Data[i][0] == \"Base\"):\n",
        "            Data.remove(Data[i])\n",
        "\n",
        "        if (i in range(0, len(Data))) and (Data[i][0] == \"Déchargement\"):\n",
        "            # print(\"i = \", i, \"size = \",len(Data),\" line \",Data[i])\n",
        "            while (i in range(0, len(Data))) and (Data[i][0] != \"Structure\"):\n",
        "                # print(\"\\n line : \", Data[i])\n",
        "                Data.remove(Data[i])\n",
        "\n",
        "    cpt = 0\n",
        "    list = []\n",
        "    for doc in Data:\n",
        "\n",
        "        if doc[0] == \"Structure\":\n",
        "            i = 1\n",
        "            if len(list) != 0:\n",
        "                listKeys.append(list)\n",
        "                list = []\n",
        "\n",
        "            while doc[i] != \"table\":\n",
        "                i = i + 1\n",
        "            # print(\"cpt: \", cpt, \" i : \", doc[i], \" \", doc[i + 1])\n",
        "            list.append(doc[i + 1])\n",
        "\n",
        "        else:\n",
        "            if \"//**\" not in doc[0] and (\"Id\" in doc[0] or \"ID\" in doc[0] or \"id\" in doc[0]):\n",
        "                doc[0] = doc[0].replace(\"/\", \"\")\n",
        "                doc[0] = doc[0].replace(\"*\", \"\")\n",
        "                list.append(doc[0])\n",
        "\n",
        "    return listKeys\n",
        "\n"
      ]
    },
    {
      "cell_type": "code",
      "execution_count": 31,
      "metadata": {
        "id": "mKSFG2E5QQ7m"
      },
      "outputs": [],
      "source": [
        "# .........................Primary keys.............................................................................................\n",
        "def ObtainPrimaryKeys(lines):\n",
        "    punc = '''!()-[]{};:'\"\\,<>.?@#$%^&=~'''\n",
        "\n",
        "    listKeys = []\n",
        "    Data = []\n",
        "    for line in lines:\n",
        "        doc = ''.join(ch for ch in line if ch not in punc)\n",
        "        doc = doc.replace('|', ' ')\n",
        "        Split_Doc = [word for word in doc.split() if word not in punc]\n",
        "        if Split_Doc:\n",
        "            Data.append(Split_Doc)\n",
        "\n",
        "    i = 0\n",
        "    for i in range(0, len(Data)):\n",
        "        if (i in range(0, len(Data))) and (Data[i][0] == \"Colonne\"):\n",
        "            Data.remove(Data[i])\n",
        "\n",
        "        if (i in range(0, len(Data))) and (Data[i][0] == \"Base\"):\n",
        "            Data.remove(Data[i])\n",
        "\n",
        "        if (i in range(0, len(Data))) and (Data[i][0] == \"Déchargement\"):\n",
        "            # print(\"i = \", i, \"size = \",len(Data),\" line \",Data[i])\n",
        "            while (i in range(0, len(Data))) and (Data[i][0] != \"Structure\"):\n",
        "                # print(\"\\n line : \", Data[i])\n",
        "                Data.remove(Data[i])\n",
        "\n",
        "    cpt = 0\n",
        "    list = []\n",
        "    for doc in Data:\n",
        "\n",
        "        if doc[0] == \"Structure\":\n",
        "            i = 1\n",
        "            if len(list) != 0:\n",
        "                listKeys.append(list)\n",
        "                list = []\n",
        "\n",
        "            while doc[i] != \"table\":\n",
        "                i = i + 1\n",
        "            # print(\"cpt: \", cpt, \" i : \", doc[i], \" \", doc[i + 1])\n",
        "            list.append(doc[i + 1])\n",
        "\n",
        "        else:\n",
        "            if \"//**\" in doc[0]:\n",
        "                doc[0] = doc[0].replace(\"/\", \"\")\n",
        "                doc[0] = doc[0].replace(\"*\", \"\")\n",
        "                list.append(doc[0])\n",
        "\n",
        "    return listKeys\n",
        "\n"
      ]
    },
    {
      "cell_type": "code",
      "execution_count": 32,
      "metadata": {
        "id": "eGuEJMWBQajp"
      },
      "outputs": [],
      "source": [
        "# ............................  Extract Symbols ..................................................................\n",
        "def Extract(file_name):\n",
        "    file='/content/drive/My Drive/'+file_name+'.txt'\n",
        "    file = open(file, \"r\", encoding='UTF8')\n",
        "    lines = file.readlines()\n",
        "    file.close()\n",
        "    ForeigKeys = []\n",
        "    PrimaryKeys = []\n",
        "    Tables_name = []\n",
        "    PrimaryKeys = ObtainPrimaryKeys(lines)\n",
        "    ForeigKeys = ObtainForeinKeys(lines)\n",
        "    punc = '''!()-[]{};:'\"\\,<>./?@#$%^&*~='''\n",
        "    Data = []\n",
        "    for line in lines:\n",
        "        doc = ''.join(ch for ch in line if ch not in punc)\n",
        "        doc = doc.replace('|', ' ')\n",
        "        Split_Doc = [word for word in doc.split() if (word not in punc)]\n",
        "\n",
        "        if Split_Doc:\n",
        "            Data.append(Split_Doc)\n",
        "\n",
        "    i = 0\n",
        "    for i in range(0, len(Data)):\n",
        "        if (i in range(0, len(Data))) and (Data[i][0] == \"Colonne\"):\n",
        "            Data.remove(Data[i])\n",
        "\n",
        "        if (i in range(0, len(Data))) and (Data[i][0] == \"Base\"):\n",
        "            Data.remove(Data[i])\n",
        "\n",
        "        if (i in range(0, len(Data))) and (Data[i][0] == \"Déchargement\"):\n",
        "            # print(\"i = \", i, \"size = \",len(Data),\" line \",Data[i])\n",
        "            while (i in range(0, len(Data))) and (Data[i][0] != \"Structure\"):\n",
        "                # print(\"\\n line : \", Data[i])\n",
        "                Data.remove(Data[i])\n",
        "\n",
        "    # ................. Extract Symbols ..................................\n",
        "\n",
        "    # print(\"Data:\")\n",
        "    File_name = '/content/drive/My Drive/'+file_name+'_treat.txt'\n",
        "    Synonyms = []\n",
        "    TargetTable = []\n",
        "    f = open(File_name, \"w\")\n",
        "    for doc in Data:\n",
        "        cpt = 0\n",
        "        if doc[0] == \"Structure\":\n",
        "            i = 1\n",
        "            while doc[i] != \"table\":\n",
        "                i = i + 1\n",
        "\n",
        "            name = doc[i + 1]\n",
        "            Tables_name.append(name)\n",
        "            Synonyms = getSynonyms(name)\n",
        "            \n",
        "            f.write(\"\\n\" + doc[i + 1].replace('_', ' ') + \" \" + doc[i + 1].replace('_', ' ') + \" \" + doc[i + 1].replace('_',\n",
        "                                                                                                                    ' ') + \": \")\n",
        "            for s in Synonyms:\n",
        "                f.write(s.replace('_', ' ') + \", \")\n",
        "        else:\n",
        "            if \"ID\" in doc[0] or \"id\" in doc[0] or \"Id\" in doc[0]:\n",
        "                # print(\"tab = \", name)\n",
        "                f.write(doc[0].replace('_', ' ').lower() + \", \")\n",
        "                # if Foreign Key\n",
        "                NoneSengletobFKey = False\n",
        "                IsForeignKey = False\n",
        "                for k in ForeigKeys:\n",
        "                    #  print(\"k = \",k[0], \"name = \",name)\n",
        "                    if k[0] == name and doc[0] in k:\n",
        "                        IsForeignKey = True\n",
        "                    if k[0] != name and doc[0] in k:\n",
        "                        NoneSengletobFKey = True\n",
        "\n",
        "                PrimaryKey = False\n",
        "                sourceTable = \"\"\n",
        "                if IsForeignKey:  # is Foreign key\n",
        "                    for k in PrimaryKeys:\n",
        "                        if len(k) == 2 and k[1] == doc[0]:\n",
        "                            sourceTable = k[0]\n",
        "                        if len(k) > 2 and doc[0] in k:\n",
        "                            PrimaryKey = True\n",
        "\n",
        "                    # print( \"key\",doc[0] ,\"Senelton = \", NoneSengletobFKey)\n",
        "                    if not NoneSengletobFKey and not PrimaryKey and sourceTable != \"\":\n",
        "                        for i in range(3):\n",
        "                            f.write(doc[0].replace('_', ' ').lower() + \", \" + doc[0].replace('_', ' ').lower() + \", \")\n",
        "                            f.write(sourceTable.replace('_', ' ') + \", \" + sourceTable.replace('_',\n",
        "                                                                                               ' ') + \", \" + sourceTable.replace(\n",
        "                                '_', ' ') + \", \")\n",
        "                    else:\n",
        "                        if sourceTable != \"\":\n",
        "                            for i in range(3):\n",
        "                                f.write(doc[0].replace('_', ' ').lower() + \", \")\n",
        "                                f.write(sourceTable.replace('_', ' ') + \", \" + sourceTable.replace('_', ' ') + \", \")\n",
        "                else:  # is not a foreign key\n",
        "\n",
        "                    oneKey = False\n",
        "                    twoKey = False\n",
        "                    for k in PrimaryKeys:\n",
        "                        if k[0] == name and len(k) == 2 and k[1] == doc[0]:\n",
        "                            oneKey = True\n",
        "                        if k[0] == name and len(k) > 2 and doc[0] in k:\n",
        "                            twoKey = True\n",
        "                    if oneKey:  # if one primary key\n",
        "                        TargetTable = []\n",
        "                        for k in PrimaryKeys:\n",
        "                            if k[0] != name and doc[0] in k:\n",
        "                                TargetTable.append(k[0])\n",
        "\n",
        "                        for k in ForeigKeys:\n",
        "                            if k[0] != name and doc[0] in k:\n",
        "                                TargetTable.append(k[0])\n",
        "\n",
        "                        # print('target tabel of ',name, \" are: \",TargetTable)\n",
        "                        if len(TargetTable) == 1:\n",
        "                            for i in range(3):\n",
        "                                f.write(\n",
        "                                    TargetTable[0].replace('_', ' ') + \", \" + TargetTable[0].replace('_', ' ') + \", \" +\n",
        "                                    TargetTable[0].replace('_', ' ') + \", \")\n",
        "                        if len(TargetTable) > 1:\n",
        "                            for i in range(len(TargetTable)):\n",
        "                                for j in range(3):\n",
        "                                    f.write(TargetTable[i].replace('_', ' ') + \", \" + TargetTable[i].replace('_',\n",
        "                                                                                                             ' ') + \", \")\n",
        "\n",
        "                    if twoKey:  # if two primary key\n",
        "                        SourceTable = \"\"\n",
        "                        existInOthers = False\n",
        "                        for k in PrimaryKeys:\n",
        "                            if k[0] != name and len(k) == 2 and doc[0] in k:\n",
        "                                SourceTable = k[0]\n",
        "                            if k[0] != name and len(k) > 2 and doc[0] in k:\n",
        "                                existInOthers = True\n",
        "                        existFKey = False\n",
        "                        for k in ForeigKeys:\n",
        "                            if k[0] != name and doc[0] in k:\n",
        "                                existFKey = True\n",
        "                        if not existInOthers and not existFKey and SourceTable != \"\":\n",
        "                            for i in range(3):\n",
        "                                f.write(doc[0].replace('_', ' ').lower() + \", \" + doc[0].replace('_', ' ').lower() + \", \")\n",
        "                                f.write(SourceTable.replace('_', ' ') + \", \" + SourceTable.replace('_',\n",
        "                                                                                                   ' ') + \", \" + SourceTable.replace(\n",
        "                                    '_', ' ') + \", \")\n",
        "                        else:\n",
        "                            if SourceTable != \"\":\n",
        "                                for i in range(3):\n",
        "                                    f.write(doc[0].replace('_', ' ').lower() + \", \")\n",
        "                                    f.write(SourceTable.replace('_', ' ') + \", \" + SourceTable.replace('_', ' ') + \", \")\n",
        "\n",
        "            else:\n",
        "                f.write(doc[0].replace('_', ' ').lower() + \", \")\n",
        "\n",
        "    f.close()\n",
        "    information = []\n",
        "    information.append(File_name)\n",
        "    information.append(Tables_name)\n",
        "    return information\n"
      ]
    },
    {
      "cell_type": "code",
      "execution_count": 33,
      "metadata": {
        "colab": {
          "base_uri": "https://localhost:8080/"
        },
        "id": "X17rlQF6DezU",
        "outputId": "089e5a97-5426-4b17-d352-0c00a4c4253a"
      },
      "outputs": [
        {
          "output_type": "stream",
          "name": "stderr",
          "text": [
            "[nltk_data] Downloading package omw-1.4 to /root/nltk_data...\n",
            "[nltk_data]   Package omw-1.4 is already up-to-date!\n"
          ]
        },
        {
          "name": "stdout",
          "output_type": "stream",
          "text": [
            "The file name : cargo\n"
          ]
        }
      ],
      "source": [
        "nltk.download('omw-1.4')\n",
        "name = input(\"The file name : \") \n",
        "\n",
        "information = []\n",
        "information = Extract(name)\n",
        "File = information[0]\n",
        "Tabels_name = information[1]\n",
        "corpus = open(File, \"r\")\n",
        "#corpus=open('/content/drive/MyDrive/autoparts.txt',\"r\")\n",
        "clean_documents = [clean(doc) for doc in corpus]\n",
        "\n",
        "#print(clean_documents)"
      ]
    },
    {
      "cell_type": "code",
      "source": [
        ""
      ],
      "metadata": {
        "id": "CyGMcY4B9czJ"
      },
      "execution_count": 33,
      "outputs": []
    },
    {
      "cell_type": "code",
      "execution_count": 34,
      "metadata": {
        "id": "JQpXqcfTggjq",
        "colab": {
          "base_uri": "https://localhost:8080/"
        },
        "outputId": "e7406120-888a-4e02-dd7e-2a95df77c097"
      },
      "outputs": [
        {
          "output_type": "stream",
          "name": "stdout",
          "text": [
            "Drive already mounted at /content/drive; to attempt to forcibly remount, call drive.mount(\"/content/drive\", force_remount=True).\n"
          ]
        }
      ],
      "source": [
        "from google.colab import drive\n",
        "drive.mount('/content/drive')"
      ]
    },
    {
      "cell_type": "markdown",
      "metadata": {
        "id": "R_2qL2HZGOyG"
      },
      "source": [
        ""
      ]
    },
    {
      "cell_type": "code",
      "execution_count": 35,
      "metadata": {
        "colab": {
          "base_uri": "https://localhost:8080/"
        },
        "id": "iJyKqayEjJW_",
        "outputId": "398c029a-b499-4f36-a487-9cd6f1dbf0f6"
      },
      "outputs": [
        {
          "output_type": "stream",
          "name": "stdout",
          "text": [
            "[[], ['cargo', 'cargo', 'cargo', 'lading', 'freight', 'load', 'loading', 'payload', 'shipment', 'tracking', 'id', 'handelling', 'event', 'handelling', 'event', 'handelling', 'event', 'handelling', 'event', 'handelling', 'event', 'handelling', 'event', 'handelling', 'event', 'handelling', 'event', 'handelling', 'event', 'origin', 'route', 'specification', 'id', 'route', 'specification', 'id', 'route', 'specification', 'id', 'route', 'specification', 'route', 'specification', 'route', 'specification', 'route', 'specification', 'id', 'route', 'specification', 'id', 'route', 'specification', 'route', 'specification', 'route', 'specification', 'route', 'specification', 'id', 'route', 'specification', 'id', 'route', 'specification', 'route', 'specification', 'route', 'specification', 'delivery', 'id', 'delivery', 'id', 'delivery', 'id', 'delivery', 'delivery', 'delivery', 'delivery', 'id', 'delivery', 'id', 'delivery', 'delivery', 'delivery', 'delivery', 'id', 'delivery', 'id', 'delivery', 'delivery', 'delivery', 'itinerary', 'id', 'itinerary', 'id', 'itinerary', 'id', 'itinerary', 'itinerary', 'itinerary', 'itinerary', 'id', 'itinerary', 'id', 'itinerary', 'itinerary', 'itinerary', 'itinerary', 'id', 'itinerary', 'id', 'itinerary', 'itinerary', 'itinerary'], ['carrier', 'movement', 'carrier', 'movement', 'carrier', 'movement', 'carrier', 'bearer', 'toter', 'aircraft', 'carrier', 'flattop', 'attack', 'aircraft', 'carrier', 'carrier', 'movement', 'id', 'departure', 'arrival', 'departuretime', 'arrivaltime'], ['delivery', 'delivery', 'delivery', 'bringing', 'manner', 'speaking', 'speech', 'livery', 'legal', 'transfer', 'pitch', 'delivery', 'id', 'cargo', 'cargo', 'cargo', 'cargo', 'cargo', 'cargo', 'cargo', 'cargo', 'cargo', 'transport', 'status', 'lastlocation', 'voyagenumber', 'miss', 'directed', 'date', 'unloades', 'destination', 'routing', 'status', 'calculate', 'date'], ['handelling', 'event', 'handelling', 'event', 'handelling', 'event', 'event', 'case', 'consequence', 'effect', 'outcome', 'result', 'type', 'voyagenumber', 'locationcode', 'regestration', 'time', 'completion', 'time', 'tracking', 'id', 'tracking', 'id', 'tracking', 'id', 'cargo', 'cargo', 'cargo', 'tracking', 'id', 'tracking', 'id', 'cargo', 'cargo', 'cargo', 'tracking', 'id', 'tracking', 'id', 'cargo', 'cargo', 'cargo'], ['itinerary', 'itinerary', 'itinerary', 'path', 'route', 'travel', 'guidebook', 'travel', 'plan', 'itinerary', 'id', 'cargo', 'cargo', 'cargo', 'cargo', 'cargo', 'cargo', 'cargo', 'cargo', 'cargo', 'leg', 'id', 'leg', 'id', 'leg', 'id', 'leg', 'leg', 'leg', 'leg', 'id', 'leg', 'id', 'leg', 'leg', 'leg', 'leg', 'id', 'leg', 'id', 'leg', 'leg', 'leg', 'date', 'list', 'leg'], ['leg', 'leg', 'leg', 'branch', 'ramification', 'peg', 'wooden', 'leg', 'pegleg', 'stage', 'leg', 'id', 'itinerary', 'itinerary', 'itinerary', 'itinerary', 'itinerary', 'itinerary', 'itinerary', 'itinerary', 'itinerary', 'voyagenumber', 'load', 'unload', 'load', 'time', 'unload', 'time', 'locationcode'], ['location', 'location', 'location', 'placement', 'locating', 'position', 'positioning', 'emplacement', 'localization', 'locationcode', 'locationname'], ['route', 'specification', 'route', 'specification', 'route', 'specification', 'path', 'route', 'itinerary', 'road', 'specification', 'spec', 'route', 'specification', 'id', 'cargo', 'cargo', 'cargo', 'cargo', 'cargo', 'cargo', 'cargo', 'cargo', 'cargo', 'origin', 'destination', 'arrivaldeadline', 'locationcode'], ['voyage', 'voyage', 'voyage', 'ocean', 'trip', 'sail', 'navigate', 'voyagenumber', 'carrier', 'movement', 'id']]\n"
          ]
        }
      ],
      "source": [
        "documents=[]\n",
        "for doc in clean_documents:\n",
        "   # print(\"doc = \",doc.split())\n",
        "    documents.append(doc.split())\n",
        "print(documents)\n",
        "with open('/content/drive/My Drive/docs.txt', 'w') as writefile:\n",
        "     for doc in documents:\n",
        "         writefile.write(str(doc))"
      ]
    },
    {
      "cell_type": "code",
      "execution_count": 36,
      "metadata": {
        "id": "_19wqlnwlWYk"
      },
      "outputs": [],
      "source": [
        "\n",
        "def calculate_Document_vector(document,j):\n",
        "\n",
        " \n",
        " vectors=[]\n",
        "\n",
        " for word in document:\n",
        "     #print(\"word :\", word)\n",
        "     if(word in embeddings_index):\n",
        "        vectors.append(embeddings_index[word])\n",
        "\n",
        " avearge_vector=[]\n",
        " \n",
        " #print(\"length = \",len(vectors))\n",
        " i=0\n",
        " for i in range(50):   \n",
        "     mean=0\n",
        "     for vect in vectors:\n",
        "        mean=mean+vect[i]\n",
        "        #print(\"doc\",j, \" i = \",i)\n",
        "\n",
        "     avearge_vector.append(mean/len(vectors))\n",
        "\n",
        " return(avearge_vector)\n",
        "\n",
        "\n",
        "     \n",
        "matrix=[]\n",
        "\n",
        "documents=[]\n",
        "j=0\n",
        "for doc in clean_documents:\n",
        "    #print(\"doc = \",doc.split())\n",
        "    j=j+1\n",
        "    if(doc!=''):\n",
        "      documents.append(doc.split())\n",
        "      DocVector=calculate_Document_vector(doc.split(),j)\n",
        "      #print(DocVector)\n",
        "      matrix.append(DocVector)\n",
        "\n",
        "\n",
        "#print(\"doucument's vectors :\",matrix)   \n",
        "\n",
        "with open('/content/drive/My Drive/docsVector.txt', 'w') as writefile:\n",
        "     for v in matrix:\n",
        "         writefile.write(str(v))"
      ]
    },
    {
      "cell_type": "code",
      "execution_count": 37,
      "metadata": {
        "id": "6hoPEeLWLK80"
      },
      "outputs": [],
      "source": [
        "#print(matrix)\n"
      ]
    },
    {
      "cell_type": "markdown",
      "metadata": {
        "id": "9pEyZRVZuNJ8"
      },
      "source": [
        ""
      ]
    },
    {
      "cell_type": "code",
      "execution_count": 38,
      "metadata": {
        "colab": {
          "base_uri": "https://localhost:8080/",
          "height": 393
        },
        "id": "cQBEkoJuMeM8",
        "outputId": "e0a27ac5-0f14-4ef7-c80c-7d192e674a7e"
      },
      "outputs": [
        {
          "name": "stdout",
          "output_type": "stream",
          "text": [
            "The namber of clusters : 9\n"
          ]
        },
        {
          "output_type": "display_data",
          "data": {
            "text/plain": [
              "<Figure size 576x396 with 1 Axes>"
            ],
            "image/png": "[encoded data removed]"
          },
          "metadata": {}
        }
      ],
      "source": [
        "\n",
        "# .........................elbow method..................\n",
        "wcss = []  # WCSS Scores = within-cluster-sum of squared distance\n",
        "c=int(input(\"The namber of clusters : \"))\n",
        "clusters_1 = range(2, c)\n",
        "for i in clusters_1:\n",
        "    kmeans = KMeans(n_clusters=i, init='random', max_iter=600, n_init=100, algorithm=\"elkan\",random_state=77)\n",
        "    kmeans.fit(matrix)\n",
        "    labels = kmeans.labels_\n",
        "    result=davies_bouldin_score(matrix, labels)\n",
        "  #  print( \"metric davies_bouldin with  \",\"c =\",i,\"est: \", result)\n",
        "    result=metrics.calinski_harabasz_score(matrix, labels)\n",
        "   # print( \"metric calinski_harabasz =  \",\"c =\",i,\"est: \", result)\n",
        "\n",
        "    wcss.append(kmeans.inertia_)\n",
        "plt.style.use(\"seaborn\")\n",
        "plt.plot(range(2, c), wcss)\n",
        "plt.title('Elbow Method')\n",
        "plt.xlabel('Number of clusters')\n",
        "plt.ylabel('Within-Cluster-Sum of Squared Distance')\n",
        "plt.show()\n"
      ]
    },
    {
      "cell_type": "code",
      "execution_count": 39,
      "metadata": {
        "colab": {
          "base_uri": "https://localhost:8080/"
        },
        "id": "xvQ1m1B4nmC3",
        "outputId": "4a5f5860-328e-4926-90f2-69aa77bd1a3d"
      },
      "outputs": [
        {
          "output_type": "stream",
          "name": "stdout",
          "text": [
            "The namber of clusters : 4\n",
            "metric davies_bouldin =   0.9841065976475896\n",
            "metric calinski_harabasz =   2.6773029500589676\n",
            " Cluster 0\n",
            "__________________________________________\n",
            "Table:  itinerary  ---> Document  4\n",
            "Table:  leg  ---> Document  5\n",
            "__________________________________________\n",
            " Cluster 1\n",
            "__________________________________________\n",
            "Table:  cargo  ---> Document  0\n",
            "Table:  delivery  ---> Document  2\n",
            "Table:  handelling_Event  ---> Document  3\n",
            "Table:  Route_Specification  ---> Document  7\n",
            "__________________________________________\n",
            " Cluster 2\n",
            "__________________________________________\n",
            "Table:  Carrier_Movement  ---> Document  1\n",
            "Table:  voyage  ---> Document  8\n",
            "__________________________________________\n",
            " Cluster 3\n",
            "__________________________________________\n",
            "Table:  location  ---> Document  6\n",
            "__________________________________________\n"
          ]
        }
      ],
      "source": [
        "\n",
        "# ........... ............. k means ............................................................................................\n",
        "clusters = int((input(\"The namber of clusters : \"))) # modified \n",
        "\n",
        "model = KMeans(n_clusters=clusters, init=\"k-means++\", max_iter=300, n_init=30, algorithm=\"elkan\", random_state=77)\n",
        "\n",
        "model.fit(matrix)\n",
        "\n",
        "order_centroids = model.cluster_centers_.argsort()[:, ::-1]\n",
        "\n",
        "# Getting the Centroids\n",
        "centroids = kmeans.cluster_centers_\n",
        "labels = model.labels_\n",
        "result=davies_bouldin_score(matrix, labels)\n",
        "print( \"metric davies_bouldin =  \", result)\n",
        "result=metrics.calinski_harabasz_score(matrix, labels)\n",
        "print( \"metric calinski_harabasz =  \", result)\n",
        "\n",
        "\n",
        "#............Obtained Clusters..........................................................................................\n",
        "obtainesCluster = []\n",
        "for c in range(clusters):\n",
        "    print(\" Cluster\", c)\n",
        "    print(\"__________________________________________\")\n",
        "    count = 0\n",
        "    cluseterI = []\n",
        "    cluseterI.append(c)\n",
        "    for i in labels:\n",
        "\n",
        "        if i == c and count < len(Tabels_name):\n",
        "            print(\"Table: \", Tabels_name[count], \" ---> Document \", count)\n",
        "            cluseterI.append(Tabels_name[count])\n",
        "        count = count + 1\n",
        "\n",
        "    obtainesCluster.append(cluseterI)\n",
        "    print(\"__________________________________________\")\n",
        "\n",
        "\n",
        "\n"
      ]
    }
  ],
  "metadata": {
    "accelerator": "GPU",
    "colab": {
      "collapsed_sections": [],
      "name": "Clustering.ipynb",
      "provenance": [],
      "mount_file_id": "1xCvuWKwyohmeJCAn8JWZUHqsAIVr9saf",
      "authorship_tag": "ABX9TyMoBn3QGK7Kf0OQWb+1Mtnt",
      "include_colab_link": true
    },
    "kernelspec": {
      "display_name": "Python 3",
      "name": "python3"
    },
    "language_info": {
      "name": "python"
    }
  },
  "nbformat": 4,
  "nbformat_minor": 0
}