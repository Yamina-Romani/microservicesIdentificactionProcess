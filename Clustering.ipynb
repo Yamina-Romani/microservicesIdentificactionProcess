{
  "cells": [
    {
      "cell_type": "markdown",
      "metadata": {
        "id": "view-in-github",
        "colab_type": "text"
      },
      "source": [
        "<a href=\"https://colab.research.google.com/github/Yamina-Romani/microservices_identificaction_example/blob/main/Clustering.ipynb\" target=\"_parent\"><img src=\"https://colab.research.google.com/assets/colab-badge.svg\" alt=\"Open In Colab\"/></a>"
      ]
    },
    {
      "cell_type": "code",
      "execution_count": 4,
      "metadata": {
        "id": "OqzIyrZFpo6e"
      },
      "outputs": [],
      "source": [
        "#@title Titre par défaut\n",
        "import os\n",
        "import string\n",
        "import matplotlib\n",
        "import matplotlib_inline\n",
        "import numpy as np\n",
        "import pandas as pd\n",
        "import gensim.models\n",
        "import nltk\n",
        "import matplotlib.pyplot as plt\n",
        "from nltk.stem import WordNetLemmatizer\n",
        "from nltk.corpus import stopwords\n",
        "from nltk.corpus import wordnet\n",
        "from sklearn.feature_extraction.text import TfidfVectorizer\n",
        "from sklearn.cluster import KMeans\n",
        "from sklearn.decomposition import PCA\n",
        "from sklearn.metrics import silhouette_score\n",
        "from sklearn.metrics import davies_bouldin_score\n",
        "from sklearn import metrics \n",
        "import pandas as pd\n"
      ]
    },
    {
      "cell_type": "code",
      "execution_count": 5,
      "metadata": {
        "colab": {
          "base_uri": "https://localhost:8080/"
        },
        "id": "GTviGHPNE7Cy",
        "outputId": "84031af5-b38c-4f2a-a5fb-f1340337e815"
      },
      "outputs": [
        {
          "output_type": "stream",
          "name": "stdout",
          "text": [
            "Drive already mounted at /content/drive; to attempt to forcibly remount, call drive.mount(\"/content/drive\", force_remount=True).\n"
          ]
        }
      ],
      "source": [
        "from google.colab import drive\n",
        "drive.mount('/content/drive')"
      ]
    },
    {
      "cell_type": "code",
      "execution_count": 6,
      "metadata": {
        "id": "I75uYh7VSKyx"
      },
      "outputs": [],
      "source": [
        "\n",
        "#print('Indexing word vectors.')\n",
        "\n",
        "embeddings_index = {}\n",
        "f = open('/content/drive/My Drive/glove.6B.50d.txt', encoding='utf-8')\n",
        "for line in f:\n",
        "    values = line.split()\n",
        "    word = values[0]\n",
        "    coefs = np.asarray(values[1:], dtype='float32')\n",
        "    embeddings_index[word] = coefs\n",
        "f.close()\n",
        "\n",
        "#print('Found %s word vectors.' % len(embeddings_index))"
      ]
    },
    {
      "cell_type": "code",
      "execution_count": 7,
      "metadata": {
        "id": "dpGQ23sDV6hv"
      },
      "outputs": [],
      "source": [
        "embeddings_dict={}\n",
        "with open('/content/drive/My Drive/glove.6B.50d.txt','rb') as f:\n",
        "    for line in f:\n",
        "        values = line.split()\n",
        "        word = values[0]\n",
        "        vector = np.asarray(values[1:], \"float32\")\n",
        "        embeddings_dict[word] = vector"
      ]
    },
    {
      "cell_type": "code",
      "execution_count": 8,
      "metadata": {
        "colab": {
          "base_uri": "https://localhost:8080/"
        },
        "id": "SOM99_QZdkY_",
        "outputId": "6aec8b6b-3f59-4dda-c778-cf84f20939ca"
      },
      "outputs": [
        {
          "output_type": "stream",
          "name": "stderr",
          "text": [
            "[nltk_data] Downloading package stopwords to /root/nltk_data...\n",
            "[nltk_data]   Unzipping corpora/stopwords.zip.\n",
            "[nltk_data] Downloading package wordnet to /root/nltk_data...\n"
          ]
        }
      ],
      "source": [
        "nltk.download('stopwords')\n",
        "nltk.download('wordnet')\n",
        "#    stop words\n",
        "stop_words = set(stopwords.words('english'))\n",
        "\n",
        "# punctuation\n",
        "punctuation = set(string.punctuation)\n",
        "\n",
        "# lemmatization\n",
        "\n",
        "lemmatization = WordNetLemmatizer()\n",
        "\n",
        "def clean(documents):\n",
        "    # split documents and remove stop words\n",
        "\n",
        "    split_doc = \" \".join([i for i in documents.lower().split() if i not in stop_words])\n",
        "\n",
        "    # remove punctuation\n",
        "    punc_doc = ''.join([j for j in split_doc if j not in punctuation])\n",
        "\n",
        "    # normalize the text\n",
        "    normalized = \" \".join([lemmatization.lemmatize(word) for word in punc_doc.split()])\n",
        "\n",
        "    return normalized\n"
      ]
    },
    {
      "cell_type": "code",
      "execution_count": 9,
      "metadata": {
        "colab": {
          "base_uri": "https://localhost:8080/"
        },
        "id": "hGjZuL_EQA-0",
        "outputId": "7e162078-18af-4777-8a12-de7addabed6c"
      },
      "outputs": [
        {
          "output_type": "stream",
          "name": "stderr",
          "text": [
            "[nltk_data] Downloading package wordnet to /root/nltk_data...\n",
            "[nltk_data]   Package wordnet is already up-to-date!\n"
          ]
        }
      ],
      "source": [
        "# .........................getSynonyms using wordnet.................................................................................;\n",
        "nltk.download('wordnet')\n",
        "def getSynonyms(name):\n",
        "    # print(\"name is \" ,name)\n",
        "    name = name.replace('_', ' ')\n",
        "    syn = []\n",
        "    ant = []\n",
        "    for word in name.split():\n",
        "        if word != \"blc\":\n",
        "            for synset in wordnet.synsets(word):\n",
        "                for lemma in synset.lemmas():\n",
        "                    if (str(lemma.name()).lower() not in syn) and (str(lemma.name()).lower() != word) and (len(syn)<6):\n",
        "                        syn.append(str(lemma.name()).lower())  # add the synonyms\n",
        "                        if lemma.antonyms():  # When antonyms are available, add them into the list\n",
        "                            ant.append(lemma.antonyms()[0].name())\n",
        "    #  print('Synonyms: ' + str(syn))\n",
        "    # print('Antonyms: ' + str(ant))\n",
        "    return syn\n",
        "\n"
      ]
    },
    {
      "cell_type": "code",
      "execution_count": 10,
      "metadata": {
        "id": "HjaP_to6QEsP"
      },
      "outputs": [],
      "source": [
        "# ............Foreign keys......................................................................................................\n",
        "def ObtainForeinKeys(lines):\n",
        "    punc = '''!()-[]{};:'\"\\,<>.?@#$%^&=~'''\n",
        "\n",
        "    listKeys = []\n",
        "    Data = []\n",
        "    for line in lines:\n",
        "        doc = ''.join(ch for ch in line if ch not in punc)\n",
        "        doc = doc.replace('|', ' ')\n",
        "        Split_Doc = [word for word in doc.split() if word not in punc]\n",
        "        if Split_Doc:\n",
        "            Data.append(Split_Doc)\n",
        "\n",
        "    i = 0\n",
        "    for i in range(0, len(Data)):\n",
        "        if (i in range(0, len(Data))) and (Data[i][0] == \"Colonne\"):\n",
        "            Data.remove(Data[i])\n",
        "\n",
        "        if (i in range(0, len(Data))) and (Data[i][0] == \"Base\"):\n",
        "            Data.remove(Data[i])\n",
        "\n",
        "        if (i in range(0, len(Data))) and (Data[i][0] == \"Déchargement\"):\n",
        "            # print(\"i = \", i, \"size = \",len(Data),\" line \",Data[i])\n",
        "            while (i in range(0, len(Data))) and (Data[i][0] != \"Structure\"):\n",
        "                # print(\"\\n line : \", Data[i])\n",
        "                Data.remove(Data[i])\n",
        "\n",
        "    cpt = 0\n",
        "    list = []\n",
        "    for doc in Data:\n",
        "\n",
        "        if doc[0] == \"Structure\":\n",
        "            i = 1\n",
        "            if len(list) != 0:\n",
        "                listKeys.append(list)\n",
        "                list = []\n",
        "\n",
        "            while doc[i] != \"table\":\n",
        "                i = i + 1\n",
        "            # print(\"cpt: \", cpt, \" i : \", doc[i], \" \", doc[i + 1])\n",
        "            list.append(doc[i + 1])\n",
        "\n",
        "        else:\n",
        "            if \"//**\" not in doc[0] and (\"Id\" in doc[0] or \"ID\" in doc[0] or \"id\" in doc[0]):\n",
        "                doc[0] = doc[0].replace(\"/\", \"\")\n",
        "                doc[0] = doc[0].replace(\"*\", \"\")\n",
        "                list.append(doc[0])\n",
        "\n",
        "    return listKeys\n",
        "\n"
      ]
    },
    {
      "cell_type": "code",
      "execution_count": 11,
      "metadata": {
        "id": "mKSFG2E5QQ7m"
      },
      "outputs": [],
      "source": [
        "# .........................Primary keys.............................................................................................\n",
        "def ObtainPrimaryKeys(lines):\n",
        "    punc = '''!()-[]{};:'\"\\,<>.?@#$%^&=~'''\n",
        "\n",
        "    listKeys = []\n",
        "    Data = []\n",
        "    for line in lines:\n",
        "        doc = ''.join(ch for ch in line if ch not in punc)\n",
        "        doc = doc.replace('|', ' ')\n",
        "        Split_Doc = [word for word in doc.split() if word not in punc]\n",
        "        if Split_Doc:\n",
        "            Data.append(Split_Doc)\n",
        "\n",
        "    i = 0\n",
        "    for i in range(0, len(Data)):\n",
        "        if (i in range(0, len(Data))) and (Data[i][0] == \"Colonne\"):\n",
        "            Data.remove(Data[i])\n",
        "\n",
        "        if (i in range(0, len(Data))) and (Data[i][0] == \"Base\"):\n",
        "            Data.remove(Data[i])\n",
        "\n",
        "        if (i in range(0, len(Data))) and (Data[i][0] == \"Déchargement\"):\n",
        "            # print(\"i = \", i, \"size = \",len(Data),\" line \",Data[i])\n",
        "            while (i in range(0, len(Data))) and (Data[i][0] != \"Structure\"):\n",
        "                # print(\"\\n line : \", Data[i])\n",
        "                Data.remove(Data[i])\n",
        "\n",
        "    cpt = 0\n",
        "    list = []\n",
        "    for doc in Data:\n",
        "\n",
        "        if doc[0] == \"Structure\":\n",
        "            i = 1\n",
        "            if len(list) != 0:\n",
        "                listKeys.append(list)\n",
        "                list = []\n",
        "\n",
        "            while doc[i] != \"table\":\n",
        "                i = i + 1\n",
        "            # print(\"cpt: \", cpt, \" i : \", doc[i], \" \", doc[i + 1])\n",
        "            list.append(doc[i + 1])\n",
        "\n",
        "        else:\n",
        "            if \"//**\" in doc[0]:\n",
        "                doc[0] = doc[0].replace(\"/\", \"\")\n",
        "                doc[0] = doc[0].replace(\"*\", \"\")\n",
        "                list.append(doc[0])\n",
        "\n",
        "    return listKeys\n",
        "\n"
      ]
    },
    {
      "cell_type": "code",
      "execution_count": 12,
      "metadata": {
        "id": "eGuEJMWBQajp"
      },
      "outputs": [],
      "source": [
        "# ............................  Extract Symbols ..................................................................\n",
        "def Extract(file_name):\n",
        "    file='/content/drive/My Drive/'+file_name+'.txt'\n",
        "    file = open(file, \"r\", encoding='UTF8')\n",
        "    lines = file.readlines()\n",
        "    file.close()\n",
        "    ForeigKeys = []\n",
        "    PrimaryKeys = []\n",
        "    Tables_name = []\n",
        "    PrimaryKeys = ObtainPrimaryKeys(lines)\n",
        "    ForeigKeys = ObtainForeinKeys(lines)\n",
        "    punc = '''!()-[]{};:'\"\\,<>./?@#$%^&*~='''\n",
        "    Data = []\n",
        "    for line in lines:\n",
        "        doc = ''.join(ch for ch in line if ch not in punc)\n",
        "        doc = doc.replace('|', ' ')\n",
        "        Split_Doc = [word for word in doc.split() if (word not in punc)]\n",
        "\n",
        "        if Split_Doc:\n",
        "            Data.append(Split_Doc)\n",
        "\n",
        "    i = 0\n",
        "    for i in range(0, len(Data)):\n",
        "        if (i in range(0, len(Data))) and (Data[i][0] == \"Colonne\"):\n",
        "            Data.remove(Data[i])\n",
        "\n",
        "        if (i in range(0, len(Data))) and (Data[i][0] == \"Base\"):\n",
        "            Data.remove(Data[i])\n",
        "\n",
        "        if (i in range(0, len(Data))) and (Data[i][0] == \"Déchargement\"):\n",
        "            # print(\"i = \", i, \"size = \",len(Data),\" line \",Data[i])\n",
        "            while (i in range(0, len(Data))) and (Data[i][0] != \"Structure\"):\n",
        "                # print(\"\\n line : \", Data[i])\n",
        "                Data.remove(Data[i])\n",
        "\n",
        "    # ................. Extract Symbols ..................................\n",
        "\n",
        "    # print(\"Data:\")\n",
        "    File_name = '/content/drive/My Drive/'+file_name+'_treat.txt'\n",
        "    Synonyms = []\n",
        "    TargetTable = []\n",
        "    f = open(File_name, \"w\")\n",
        "    for doc in Data:\n",
        "        cpt = 0\n",
        "        if doc[0] == \"Structure\":\n",
        "            i = 1\n",
        "            while doc[i] != \"table\":\n",
        "                i = i + 1\n",
        "\n",
        "            name = doc[i + 1]\n",
        "            Tables_name.append(name)\n",
        "            Synonyms = getSynonyms(name)\n",
        "            \n",
        "            f.write(\"\\n\" + doc[i + 1].replace('_', ' ') + \" \" + doc[i + 1].replace('_', ' ') + \" \" + doc[i + 1].replace('_',\n",
        "                                                                                                                    ' ') + \": \")\n",
        "            for s in Synonyms:\n",
        "                f.write(s.replace('_', ' ') + \", \")\n",
        "        else:\n",
        "            if \"ID\" in doc[0] or \"id\" in doc[0] or \"Id\" in doc[0]:\n",
        "                # print(\"tab = \", name)\n",
        "                f.write(doc[0].replace('_', ' ').lower() + \", \")\n",
        "                # if Foreign Key\n",
        "                NoneSengletobFKey = False\n",
        "                IsForeignKey = False\n",
        "                for k in ForeigKeys:\n",
        "                    #  print(\"k = \",k[0], \"name = \",name)\n",
        "                    if k[0] == name and doc[0] in k:\n",
        "                        IsForeignKey = True\n",
        "                    if k[0] != name and doc[0] in k:\n",
        "                        NoneSengletobFKey = True\n",
        "\n",
        "                PrimaryKey = False\n",
        "                sourceTable = \"\"\n",
        "                if IsForeignKey:  # is Foreign key\n",
        "                    for k in PrimaryKeys:\n",
        "                        if len(k) == 2 and k[1] == doc[0]:\n",
        "                            sourceTable = k[0]\n",
        "                        if len(k) > 2 and doc[0] in k:\n",
        "                            PrimaryKey = True\n",
        "\n",
        "                    # print( \"key\",doc[0] ,\"Senelton = \", NoneSengletobFKey)\n",
        "                    if not NoneSengletobFKey and not PrimaryKey and sourceTable != \"\":\n",
        "                        for i in range(3):\n",
        "                            f.write(doc[0].replace('_', ' ').lower() + \", \" + doc[0].replace('_', ' ').lower() + \", \")\n",
        "                            f.write(sourceTable.replace('_', ' ') + \", \" + sourceTable.replace('_',\n",
        "                                                                                               ' ') + \", \" + sourceTable.replace(\n",
        "                                '_', ' ') + \", \")\n",
        "                    else:\n",
        "                        if sourceTable != \"\":\n",
        "                            for i in range(3):\n",
        "                                f.write(doc[0].replace('_', ' ').lower() + \", \")\n",
        "                                f.write(sourceTable.replace('_', ' ') + \", \" + sourceTable.replace('_', ' ') + \", \")\n",
        "                else:  # is not a foreign key\n",
        "\n",
        "                    oneKey = False\n",
        "                    twoKey = False\n",
        "                    for k in PrimaryKeys:\n",
        "                        if k[0] == name and len(k) == 2 and k[1] == doc[0]:\n",
        "                            oneKey = True\n",
        "                        if k[0] == name and len(k) > 2 and doc[0] in k:\n",
        "                            twoKey = True\n",
        "                    if oneKey:  # if one primary key\n",
        "                        TargetTable = []\n",
        "                        for k in PrimaryKeys:\n",
        "                            if k[0] != name and doc[0] in k:\n",
        "                                TargetTable.append(k[0])\n",
        "\n",
        "                        for k in ForeigKeys:\n",
        "                            if k[0] != name and doc[0] in k:\n",
        "                                TargetTable.append(k[0])\n",
        "\n",
        "                        # print('target tabel of ',name, \" are: \",TargetTable)\n",
        "                        if len(TargetTable) == 1:\n",
        "                            for i in range(3):\n",
        "                                f.write(\n",
        "                                    TargetTable[0].replace('_', ' ') + \", \" + TargetTable[0].replace('_', ' ') + \", \" +\n",
        "                                    TargetTable[0].replace('_', ' ') + \", \")\n",
        "                        if len(TargetTable) > 1:\n",
        "                            for i in range(len(TargetTable)):\n",
        "                                for j in range(3):\n",
        "                                    f.write(TargetTable[i].replace('_', ' ') + \", \" + TargetTable[i].replace('_',\n",
        "                                                                                                             ' ') + \", \")\n",
        "\n",
        "                    if twoKey:  # if two primary key\n",
        "                        SourceTable = \"\"\n",
        "                        existInOthers = False\n",
        "                        for k in PrimaryKeys:\n",
        "                            if k[0] != name and len(k) == 2 and doc[0] in k:\n",
        "                                SourceTable = k[0]\n",
        "                            if k[0] != name and len(k) > 2 and doc[0] in k:\n",
        "                                existInOthers = True\n",
        "                        existFKey = False\n",
        "                        for k in ForeigKeys:\n",
        "                            if k[0] != name and doc[0] in k:\n",
        "                                existFKey = True\n",
        "                        if not existInOthers and not existFKey and SourceTable != \"\":\n",
        "                            for i in range(3):\n",
        "                                f.write(doc[0].replace('_', ' ').lower() + \", \" + doc[0].replace('_', ' ').lower() + \", \")\n",
        "                                f.write(SourceTable.replace('_', ' ') + \", \" + SourceTable.replace('_',\n",
        "                                                                                                   ' ') + \", \" + SourceTable.replace(\n",
        "                                    '_', ' ') + \", \")\n",
        "                        else:\n",
        "                            if SourceTable != \"\":\n",
        "                                for i in range(3):\n",
        "                                    f.write(doc[0].replace('_', ' ').lower() + \", \")\n",
        "                                    f.write(SourceTable.replace('_', ' ') + \", \" + SourceTable.replace('_', ' ') + \", \")\n",
        "\n",
        "            else:\n",
        "                f.write(doc[0].replace('_', ' ').lower() + \", \")\n",
        "\n",
        "    f.close()\n",
        "    information = []\n",
        "    information.append(File_name)\n",
        "    information.append(Tables_name)\n",
        "    return information\n"
      ]
    },
    {
      "cell_type": "code",
      "execution_count": 13,
      "metadata": {
        "colab": {
          "base_uri": "https://localhost:8080/"
        },
        "id": "X17rlQF6DezU",
        "outputId": "f73be922-6ed3-4e17-cbd4-f385166935f9"
      },
      "outputs": [
        {
          "output_type": "stream",
          "name": "stderr",
          "text": [
            "[nltk_data] Downloading package omw-1.4 to /root/nltk_data...\n"
          ]
        },
        {
          "name": "stdout",
          "output_type": "stream",
          "text": [
            "The file name : trading_system\n"
          ]
        }
      ],
      "source": [
        "nltk.download('omw-1.4')\n",
        "name = input(\"The file name : \") \n",
        "\n",
        "information = []\n",
        "information = Extract(name)\n",
        "File = information[0]\n",
        "Tabels_name = information[1]\n",
        "corpus = open(File, \"r\")\n",
        "#corpus=open('/content/drive/MyDrive/autoparts.txt',\"r\")\n",
        "clean_documents = [clean(doc) for doc in corpus]\n",
        "\n",
        "#print(clean_documents)"
      ]
    },
    {
      "cell_type": "code",
      "source": [
        ""
      ],
      "metadata": {
        "id": "CyGMcY4B9czJ"
      },
      "execution_count": 13,
      "outputs": []
    },
    {
      "cell_type": "code",
      "execution_count": 14,
      "metadata": {
        "id": "JQpXqcfTggjq",
        "colab": {
          "base_uri": "https://localhost:8080/"
        },
        "outputId": "7375cf00-3a30-4864-8133-73cd0c3e9e1e"
      },
      "outputs": [
        {
          "output_type": "stream",
          "name": "stdout",
          "text": [
            "Drive already mounted at /content/drive; to attempt to forcibly remount, call drive.mount(\"/content/drive\", force_remount=True).\n"
          ]
        }
      ],
      "source": [
        "from google.colab import drive\n",
        "drive.mount('/content/drive')"
      ]
    },
    {
      "cell_type": "markdown",
      "metadata": {
        "id": "R_2qL2HZGOyG"
      },
      "source": [
        ""
      ]
    },
    {
      "cell_type": "code",
      "execution_count": 16,
      "metadata": {
        "colab": {
          "base_uri": "https://localhost:8080/"
        },
        "id": "iJyKqayEjJW_",
        "outputId": "6ded6da6-9e63-42ee-b486-8d4777614a28"
      },
      "outputs": [
        {
          "output_type": "stream",
          "name": "stdout",
          "text": [
            "[[], ['account', 'account', 'account', 'history', 'chronicle', 'story', 'report', 'news', 'report', 'write', 'up', 'accountownerid', 'accountownerid', 'payment', 'information', 'payment', 'information', 'accountownerid', 'payment', 'information', 'payment', 'information', 'accountownerid', 'payment', 'information', 'payment', 'information', 'account', 'number', 'positionid', 'positionid', 'positionid', 'position', 'position', 'position', 'positionid', 'positionid', 'position', 'position', 'position', 'positionid', 'positionid', 'position', 'position', 'position', 'orderid', 'orderid', 'orderid', 'order', 'order', 'order', 'orderid', 'orderid', 'order', 'order', 'order', 'orderid', 'orderid', 'order', 'order', 'order', 'description'], ['accountowner', 'accountowner', 'accountowner', 'accoutnownertid', 'address', 'companyid', 'companyid', 'companyid', 'company', 'company', 'company', 'companyid', 'companyid', 'company', 'company', 'company', 'companyid', 'companyid', 'company', 'company', 'company', 'personid', 'personid', 'personid', 'natural', 'person', 'natural', 'person', 'natural', 'person', 'personid', 'personid', 'natural', 'person', 'natural', 'person', 'natural', 'person', 'personid', 'personid', 'natural', 'person', 'natural', 'person', 'natural', 'person'], ['company', 'company', 'company', 'companionship', 'fellowship', 'society', 'troupe', 'caller', 'party', 'companyid', 'accountowner', 'accountowner', 'accountowner', 'accountowner', 'accountowner', 'accountowner', 'accountowner', 'accountowner', 'accountowner', 'company', 'name'], ['instruction', 'instruction', 'instruction', 'direction', 'education', 'teaching', 'pedagogy', 'didactics', 'educational', 'activity', 'instructionid', 'order', 'order', 'order', 'order', 'order', 'order', 'order', 'order', 'order', 'swift', 'message', 'release', 'date', 'accountownerid', 'accountownerid', 'payment', 'information', 'payment', 'information', 'accountownerid', 'payment', 'information', 'payment', 'information', 'accountownerid', 'payment', 'information', 'payment', 'information'], ['natural', 'person', 'natural', 'person', 'natural', 'person', 'cancel', 'instinctive', 'raw', 'rude', 'born', 'innate', 'personid', 'accountowner', 'accountowner', 'accountowner', 'accountowner', 'accountowner', 'accountowner', 'accountowner', 'accountowner', 'accountowner', 'name'], ['news', 'news', 'news', 'intelligence', 'tidings', 'word', 'news', 'program', 'news', 'show', 'newsworthiness', 'stockid', 'title', 'text', 'image'], ['order', 'order', 'order', 'order', 'magnitude', 'ordering', 'ordination', 'orderliness', 'decree', 'edict', 'orderid', 'account', 'account', 'account', 'account', 'account', 'account', 'account', 'account', 'account', 'posted', 'date', 'expires', 'date', 'trriger', 'price', 'executed', 'order', 'type', 'amount', 'instructionid', 'instructionid', 'instructionid', 'instruction', 'instruction', 'instruction', 'instructionid', 'instructionid', 'instruction', 'instruction', 'instruction', 'instructionid', 'instructionid', 'instruction', 'instruction', 'instruction'], ['payment', 'information', 'payment', 'information', 'payment', 'information', 'defrayal', 'defrayment', 'requital', 'information', 'info', 'data', 'accountownerid', 'account', 'account', 'account', 'account', 'account', 'account', 'instruction', 'instruction', 'instruction', 'instruction', 'instruction', 'instruction', 'cash', 'account'], ['position', 'position', 'position', 'place', 'military', 'position', 'view', 'perspective', 'posture', 'attitude', 'positionid', 'account', 'account', 'account', 'account', 'account', 'account', 'account', 'account', 'account', 'stockid', 'balance'], ['price', 'price', 'price', 'monetary', 'value', 'cost', 'term', 'damage', 'toll', 'leontyne', 'price', 'priceid', 'date', 'time', 'amount', 'currency'], ['recommendation', 'recommendation', 'recommendation', 'testimonial', 'good', 'word', 'passport', 'description', 'stockid'], ['stock', 'stock', 'stock', 'inventory', 'gunstock', 'stock', 'certificate', 'store', 'fund', 'lineage', 'stockid', 'name', 'priceid']]\n"
          ]
        }
      ],
      "source": [
        "documents=[]\n",
        "for doc in clean_documents:\n",
        "   # print(\"doc = \",doc.split())\n",
        "    documents.append(doc.split())\n",
        "print(documents)\n",
        "with open('/content/drive/My Drive/docs.txt', 'w') as writefile:\n",
        "     for doc in documents:\n",
        "         writefile.write(str(doc))"
      ]
    },
    {
      "cell_type": "code",
      "execution_count": 19,
      "metadata": {
        "id": "_19wqlnwlWYk"
      },
      "outputs": [],
      "source": [
        "\n",
        "def calculate_Document_vector(document,j):\n",
        "\n",
        " \n",
        " vectors=[]\n",
        "\n",
        " for word in document:\n",
        "     #print(\"word :\", word)\n",
        "     if(word in embeddings_index):\n",
        "        vectors.append(embeddings_index[word])\n",
        "\n",
        " avearge_vector=[]\n",
        " \n",
        " #print(\"length = \",len(vectors))\n",
        " i=0\n",
        " for i in range(50):   \n",
        "     mean=0\n",
        "     for vect in vectors:\n",
        "        mean=mean+vect[i]\n",
        "        #print(\"doc\",j, \" i = \",i)\n",
        "\n",
        "     avearge_vector.append(mean/len(vectors))\n",
        "\n",
        " return(avearge_vector)\n",
        "\n",
        "\n",
        "     \n",
        "matrix=[]\n",
        "\n",
        "documents=[]\n",
        "j=0\n",
        "for doc in clean_documents:\n",
        "    #print(\"doc = \",doc.split())\n",
        "    j=j+1\n",
        "    if(doc!=''):\n",
        "      documents.append(doc.split())\n",
        "      DocVector=calculate_Document_vector(doc.split(),j)\n",
        "      #print(DocVector)\n",
        "      matrix.append(DocVector)\n",
        "\n",
        "\n",
        "#print(\"doucument's vectors :\",matrix)   \n",
        "\n",
        "with open('/content/drive/My Drive/docsVector.txt', 'w') as writefile:\n",
        "     for v in matrix:\n",
        "         writefile.write(str(v))"
      ]
    },
    {
      "cell_type": "code",
      "execution_count": 21,
      "metadata": {
        "id": "6hoPEeLWLK80"
      },
      "outputs": [],
      "source": [
        "#print(matrix)\n"
      ]
    },
    {
      "cell_type": "markdown",
      "metadata": {
        "id": "9pEyZRVZuNJ8"
      },
      "source": [
        ""
      ]
    },
    {
      "cell_type": "code",
      "execution_count": 22,
      "metadata": {
        "colab": {
          "base_uri": "https://localhost:8080/",
          "height": 393
        },
        "id": "cQBEkoJuMeM8",
        "outputId": "53a755d8-279b-493c-a72a-2f4e57450ef7"
      },
      "outputs": [
        {
          "name": "stdout",
          "output_type": "stream",
          "text": [
            "The namber of clusters : 11\n"
          ]
        },
        {
          "output_type": "display_data",
          "data": {
            "text/plain": [
              "<Figure size 576x396 with 1 Axes>"
            ],
            "image/png": "[encoded data removed]"
          },
          "metadata": {}
        }
      ],
      "source": [
        "\n",
        "# .........................elbow method..................\n",
        "wcss = []  # WCSS Scores = within-cluster-sum of squared distance\n",
        "c=int(input(\"The namber of clusters : \"))\n",
        "clusters_1 = range(2, c)\n",
        "for i in clusters_1:\n",
        "    kmeans = KMeans(n_clusters=i, init='random', max_iter=600, n_init=100, algorithm=\"elkan\",random_state=77)\n",
        "    kmeans.fit(matrix)\n",
        "    labels = kmeans.labels_\n",
        "    result=davies_bouldin_score(matrix, labels)\n",
        "  #  print( \"metric davies_bouldin with  \",\"c =\",i,\"est: \", result)\n",
        "    result=metrics.calinski_harabasz_score(matrix, labels)\n",
        "   # print( \"metric calinski_harabasz =  \",\"c =\",i,\"est: \", result)\n",
        "\n",
        "    wcss.append(kmeans.inertia_)\n",
        "plt.style.use(\"seaborn\")\n",
        "plt.plot(range(2, c), wcss)\n",
        "plt.title('Elbow Method')\n",
        "plt.xlabel('Number of clusters')\n",
        "plt.ylabel('Within-Cluster-Sum of Squared Distance')\n",
        "plt.show()\n"
      ]
    },
    {
      "cell_type": "code",
      "execution_count": 23,
      "metadata": {
        "colab": {
          "base_uri": "https://localhost:8080/"
        },
        "id": "xvQ1m1B4nmC3",
        "outputId": "017e25e4-bc73-46dc-c84a-266140d7c09f"
      },
      "outputs": [
        {
          "output_type": "stream",
          "name": "stdout",
          "text": [
            "The namber of clusters : 4\n",
            "metric davies_bouldin =   1.1445706593322817\n",
            "metric calinski_harabasz =   3.2275033826059603\n",
            " Cluster 0\n",
            "__________________________________________\n",
            "Table:  accountowner  ---> Document  1\n",
            "Table:  company  ---> Document  2\n",
            "Table:  natural_person  ---> Document  4\n",
            "__________________________________________\n",
            " Cluster 1\n",
            "__________________________________________\n",
            "Table:  news  ---> Document  5\n",
            "Table:  recommendation  ---> Document  10\n",
            "__________________________________________\n",
            " Cluster 2\n",
            "__________________________________________\n",
            "Table:  account  ---> Document  0\n",
            "Table:  instruction  ---> Document  3\n",
            "Table:  order  ---> Document  6\n",
            "Table:  payment_Information  ---> Document  7\n",
            "Table:  position  ---> Document  8\n",
            "__________________________________________\n",
            " Cluster 3\n",
            "__________________________________________\n",
            "Table:  price  ---> Document  9\n",
            "Table:  stock  ---> Document  11\n",
            "__________________________________________\n"
          ]
        }
      ],
      "source": [
        "\n",
        "# ........... ............. k means ............................................................................................\n",
        "clusters = int((input(\"The namber of clusters : \"))) # modified \n",
        "\n",
        "model = KMeans(n_clusters=clusters, init=\"k-means++\", max_iter=300, n_init=30, algorithm=\"elkan\", random_state=77)\n",
        "\n",
        "model.fit(matrix)\n",
        "\n",
        "order_centroids = model.cluster_centers_.argsort()[:, ::-1]\n",
        "\n",
        "# Getting the Centroids\n",
        "centroids = kmeans.cluster_centers_\n",
        "labels = model.labels_\n",
        "result=davies_bouldin_score(matrix, labels)\n",
        "print( \"metric davies_bouldin =  \", result)\n",
        "result=metrics.calinski_harabasz_score(matrix, labels)\n",
        "print( \"metric calinski_harabasz =  \", result)\n",
        "\n",
        "\n",
        "#............Obtained Clusters..........................................................................................\n",
        "obtainesCluster = []\n",
        "for c in range(clusters):\n",
        "    print(\" Cluster\", c)\n",
        "    print(\"__________________________________________\")\n",
        "    count = 0\n",
        "    cluseterI = []\n",
        "    cluseterI.append(c)\n",
        "    for i in labels:\n",
        "\n",
        "        if i == c and count < len(Tabels_name):\n",
        "            print(\"Table: \", Tabels_name[count], \" ---> Document \", count)\n",
        "            cluseterI.append(Tabels_name[count])\n",
        "        count = count + 1\n",
        "\n",
        "    obtainesCluster.append(cluseterI)\n",
        "    print(\"__________________________________________\")\n",
        "\n",
        "\n",
        "\n"
      ]
    }
  ],
  "metadata": {
    "accelerator": "GPU",
    "colab": {
      "collapsed_sections": [],
      "name": "Clustering.ipynb",
      "provenance": [],
      "mount_file_id": "1xCvuWKwyohmeJCAn8JWZUHqsAIVr9saf",
      "authorship_tag": "ABX9TyMoBn3QGK7Kf0OQWb+1Mtnt",
      "include_colab_link": true
    },
    "kernelspec": {
      "display_name": "Python 3",
      "name": "python3"
    },
    "language_info": {
      "name": "python"
    }
  },
  "nbformat": 4,
  "nbformat_minor": 0
}